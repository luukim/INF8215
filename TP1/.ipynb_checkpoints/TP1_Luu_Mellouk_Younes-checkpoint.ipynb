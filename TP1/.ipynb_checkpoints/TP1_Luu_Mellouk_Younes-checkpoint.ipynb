{
 "cells": [
  {
   "cell_type": "markdown",
   "metadata": {
    "colab_type": "text",
    "id": "TjWTjLXUKBIO"
   },
   "source": [
    "# INF8215 - Intelligence artif.: méthodes et algorithmes \n",
    "## Automne 2020 - TP1 - Méthodes de recherche \n",
    "### Membres de l'équipe\n",
    "    - Luu Thien-Kim\n",
    "    - Mellouk Souhaila\n",
    "    - Younes Mourad\n",
    "\n",
    "\n",
    "## Directives de remise\n",
    "Le travail sera réalisé en équipe de trois. Vous remettrez un fichier nommé TP1\\_NomDuMembre1\\_NomDuMembre2\\_NomDuMembre3.ipynb dans la boite de remise de travaux sur moodle. \n",
    "\n",
    "Le fichier devra être remis avant le **29 septembre à 23h55**. Tout travail en retard sera pénalisé\n",
    "de 10\\% de points en moins par jour de retard.\n"
   ]
  },
  {
   "cell_type": "code",
   "execution_count": null,
   "metadata": {
    "colab": {},
    "colab_type": "code",
    "id": "cEuSlLvWR137"
   },
   "outputs": [],
   "source": []
  },
  {
   "cell_type": "code",
   "execution_count": null,
   "metadata": {
    "colab": {},
    "colab_type": "code",
    "id": "nIqDUIP7Q9YE"
   },
   "outputs": [],
   "source": []
  },
  {
   "cell_type": "markdown",
   "metadata": {
    "colab_type": "text",
    "id": "mhw_Vw1_KBIP"
   },
   "source": [
    "## Snail Labyrinth\n",
    "\n",
    "*Snail Labyrinth* est un jeu dont le but est de guider des escargots dans un labyrinthe jusqu'à leur sortie personnelle. La taille des labyrinthes varie. Chaque escargot peut se déplacer dans cinq directions: vers le haut, vers le bas, vers la droite, vers la gauche et rester sur place. \n",
    "\n",
    "A chaque étape, chaque escargot à la possibilité d'effectuer un mouvement.\n",
    "Les escargots ne peuvent pas se déplacer dans une case où se déplace un autre escargot. De plus, les escargots laissent derrière ils une substance toxique et ne peuvent donc pas se déplacer dans une case qui a déjà été occupée par un autre escargot.\n",
    "\n",
    "A titre d'illustation, les images ci-dessous donnent un exemple d'une configuration initiale (Figure 1) et d'une configuration où deux mouvements ont eté realisés (Figure 2). Les étapes sont les suivantes:\n",
    "\n",
    "- Etape 1: le escargot A se déplace vers la droite et le escargot B vers la droite.\n",
    "- Etape 2: le escargot A se déplace vers la droite et le escargot B vers la droite.\n",
    "\n",
    "<table><tr>\n",
    "<td> <img src=\"https://imgur.com/3W4iDSk.png\" alt=\"Drawing\"/> <figcaption>Figure 1 - Example d'une configuration initiale.</figcaption></td>\n",
    "<td> <img src=\"https://imgur.com/3uaD3AO.png\" alt=\"Drawing\"/><figcaption>Figure 2 - Example de deux mouvements.</figcaption> </td>\n",
    "</tr></table>\n",
    "\n",
    "L'objectif de ce TP est d'écrire un programme qui permet aux escargots d'atteindre leur destination en un **minimum de mouvements**.\n",
    "\n",
    "Pour ce faire, il vous est demandé de compléter les deux classes fournies en Python. Vous pouvez réimplémenter ces classes-là et faire le TP dans un autre langage si vous le désirez.\n",
    "\n",
    "## 1. Représentation du problème (10pts)\n",
    "\n",
    "Le problème est défini par les règles suivantes. Les colonnes sont numérotées de gauche à droite de 0 à $m$ et les lignes sont numérotées de haut en bas, de 0 à $n$. Un escargot est considérée *résolue* lorsqu'il arrive à sa propre sortie.\n",
    "\n",
    "L'état du labyrinthe est représenté par un objet de la classe **State** qui contient les variables d'instance suivantes: \n",
    "\n",
    "- `pos`: vecteur indiquant la position de chaque escargot sur la grille;\n",
    "- `venoms`: ensemble des positions du poison laissé par les escargots;\n",
    "- `d`: liste indiquant la direction du déplacement de chaque escargot fait à partir de l'état précédent pour atteindre l'état courant (0: rester en place, 1: vers le haut, 2: vers la droite, 3: vers le bas et 4: vers la gauche);\n",
    "- `prev`: l'état précédent\n",
    "\n"
   ]
  },
  {
   "cell_type": "code",
   "execution_count": 158,
   "metadata": {
    "colab": {},
    "colab_type": "code",
    "id": "sJoIQLWMqxlI"
   },
   "outputs": [],
   "source": [
    "import numpy as np\n",
    "import math\n",
    "import copy\n",
    "\n",
    "class Position:\n",
    "    def __init__(self, x, y):\n",
    "        self.x = x\n",
    "        self.y = y\n",
    "\n",
    "    def distance(self, other):\n",
    "        return math.fabs(other.x - self.x) + math.fabs(other.y - self.y)\n",
    "        \n",
    "    def __eq__(self, other):\n",
    "        return self.x == other.x and self.y == other.y\n",
    "    \n",
    "    def __repr__(self):\n",
    "        return \"(%d,%d)\" % (self.x, self.y)\n",
    "    \n",
    "    def __str__(self):\n",
    "        return \"(%d,%d)\" % (self.x, self.y)\n",
    "    \n",
    "    def __hash__(self):\n",
    "        return int(self.x*1+self.y*2)\n",
    "\n",
    "class State:\n",
    "    \n",
    "    \"\"\"\n",
    "    Contructeur d'un état initial\n",
    "    \"\"\"\n",
    "    def __init__(self, pos):\n",
    "        \"\"\"\n",
    "        pos donne la position du escargot i;\n",
    "        \"\"\"\n",
    "        self.pos = np.array(copy.deepcopy(pos))\n",
    "        \"\"\"\n",
    "        venoms garde les positions du poisons\n",
    "        \"\"\"\n",
    "        self.venoms = set()\n",
    "        \n",
    "        \"\"\"\n",
    "        d et prev premettent de retracer l'état précédent et le dernier mouvement effectué\n",
    "        \"\"\"\n",
    "        self.d = self.prev = None\n",
    "        \n",
    "        self.nb_moves = 0\n",
    "        self.h = 0\n",
    "\n",
    "    \"\"\"\n",
    "    Constructeur d'un état à partir mouvement (d)\n",
    "    \"\"\"\n",
    "    def move(self, d):\n",
    "        # TODO\n",
    "        state = copy.deepcopy(self)\n",
    "        state.prev = copy.deepcopy(self)\n",
    "        for snail in range(len(self.pos)):\n",
    "            if d[snail] == 1:\n",
    "                state.venoms.add((state.pos[snail].x,state.pos[snail].y))\n",
    "                state.pos[snail].x = state.pos[snail].x - 1\n",
    "            if d[snail] == 2:\n",
    "                state.venoms.add((state.pos[snail].x,state.pos[snail].y))\n",
    "                state.pos[snail].y = state.pos[snail].y + 1\n",
    "            if d[snail] == 3:\n",
    "                state.venoms.add((state.pos[snail].x,state.pos[snail].y))\n",
    "                state.pos[snail].x = state.pos[snail].x + 1\n",
    "            if d[snail] == 4:\n",
    "                state.venoms.add((state.pos[snail].x,state.pos[snail].y))\n",
    "                state.pos[snail].y = state.pos[snail].y - 1\n",
    "        state.nb_moves += 1\n",
    "        return state\n",
    "    \n",
    "    def __eq__(self, other):\n",
    "        if not isinstance(other, State):\n",
    "            return NotImplemented\n",
    "        if len(self.pos) != len(other.pos):\n",
    "            print(\"les états n'ont pas le même nombre de limaces\")\n",
    "\n",
    "        return (len(self.venoms) == len(other.venoms) and np.array_equal(self.pos, other.pos) and self.venoms == other.venoms)\n",
    "        \n",
    "    def __hash__(self):\n",
    "        h = 0\n",
    "        for snail_position in self.pos:\n",
    "            h += snail_position.x*25 + snail_position.y*30\n",
    "        for venom_position in self.venoms:\n",
    "            h += snail_position.x*25 + snail_position.y*30\n",
    "        return int(h)\n",
    "    \n",
    "    def __lt__(self, other):\n",
    "        return (self.nb_moves + self.h) < (other.nb_moves + other.h)\n",
    "\n",
    "    def __repr__(self):\n",
    "        out = \"\"\n",
    "        for index, limace in enumerate(self.pos):\n",
    "            out += \"Escargot %d (%d,%d) | \" % (index+1, limace.x, limace.y)\n",
    "        return \"State: \" + out[:-3]\n",
    "    \n",
    "    def __str__(self):\n",
    "        out = \"\"\n",
    "        for index, limace in enumerate(self.pos):\n",
    "            out += \"Escargot %d (%d,%d) | \" % (index+1, limace.x, limace.y)\n",
    "        return out[:-3]\n",
    "        "
   ]
  },
  {
   "cell_type": "markdown",
   "metadata": {
    "colab_type": "text",
    "id": "X1FDUM7MKBIX"
   },
   "source": [
    "#### Implémentation \n",
    "   - Complétez la fonction ***move*** en déplaçant les escargots de 1 case dans la bonne direction (d[i]= 0, 1, 2, 3 ou 4). Nous supposons que le déplacement est possible lorsque la fonction est appelée. **Attention** : Cette fonction doit créer un nouvel objet *State* et définir les variables d'instance `prev`, `venoms` et `d`.\n",
    "   \n",
    "Vous pouvez tester votre code avec la fonction ***test1()*** dans la cellule suivante. Assurez-vous d'avoir déjà roulé la cellule avec la définition de la classe **State** avant. Vous devriez obtenir les résultats suivants:\n",
    "```\n",
    "True\n",
    "(3,0)  (3,1)\n",
    "True\n",
    "True\n",
    "```"
   ]
  },
  {
   "cell_type": "code",
   "execution_count": 159,
   "metadata": {
    "colab": {
     "base_uri": "https://localhost:8080/",
     "height": 119
    },
    "colab_type": "code",
    "id": "NjWtPnpxM0KI",
    "outputId": "ee12e43c-482a-4639-e83d-eac72000ef58"
   },
   "outputs": [
    {
     "name": "stdout",
     "output_type": "stream",
     "text": [
      "True\n",
      "(3,0)   (3,1)\n",
      "True\n",
      "True\n",
      "\n",
      "résultat correct\n"
     ]
    }
   ],
   "source": [
    "def test1():\n",
    "    b = True\n",
    "    s0 = State([Position(0,0), Position(3,0)])\n",
    "    s1 = s0.move([2,2])\n",
    "    print(s1.prev == s0)\n",
    "    b = b and s1.prev == s0\n",
    "    print(s0.pos[1], \" \", s1.pos[1])\n",
    "    s1 = s1.move([0,0])\n",
    "    print(s1 == s1.prev)\n",
    "    b = b and s1 == s1.prev\n",
    "    s1 = s1.move([3,3]).move([4,4]).move([1,1])\n",
    "    s2 = s0.move([3,3]).move([2,2]).move([1,1]).move([0,0]).move([4,4])\n",
    "    print(s1 == s2)\n",
    "    b = b and s1 == s2\n",
    "    \n",
    "    print(\"\\nrésultat correct\" if b else \"\\nmauvais résultat\")\n",
    "    \n",
    "test1()"
   ]
  },
  {
   "cell_type": "markdown",
   "metadata": {
    "colab_type": "text",
    "id": "iLm3IiUAKBIc"
   },
   "source": [
    "## 2. Mouvements possibles (25pts)\n",
    "Pour représenter le problème, nous allons utiliser la classe **Labyrinth** qui contient les champs suivants:\n",
    "\n",
    "- `nb_lines`: le nombre de lignes de la grille;\n",
    "- `nb_columns`: le nombre de colonnes de la grille;\n",
    "- `exits`: un vecteur contenant la position de la sortie de chaque escargot (escargot $i$ sort à la sortie `exits[i]`);\n",
    "- `walls`: un vecteur contenant la position de chaque murs dan la grille;\n",
    "- `free_pos`: une matrice $n\\times m$ contenant une valeur booléenne permettant de savoir si la case est libre ou non.\n",
    "\n",
    "Toutes les informations pour un escargot se trouve au même indice $i$ dans chacun des vecteurs."
   ]
  },
  {
   "cell_type": "code",
   "execution_count": 160,
   "metadata": {
    "colab": {},
    "colab_type": "code",
    "id": "SDb5dmYZq2vh"
   },
   "outputs": [],
   "source": [
    "from collections import deque\n",
    "import itertools as it\n",
    "# from itertools import combinations\n",
    "import heapq\n",
    "import time\n",
    "from IPython.display import clear_output\n",
    "import matplotlib.pyplot as plt\n",
    "import itertools\n",
    "\n",
    "class Labyrinth:\n",
    "    \n",
    "    def __init__(self, lines, columns ,exits, walls):\n",
    "        self.nb_lines = lines\n",
    "        self.nb_columns = columns\n",
    "        self.exits = exits\n",
    "        self.walls = walls\n",
    "        \n",
    "        self.free_pos = None\n",
    "\n",
    "    \"\"\" est il final? \"\"\"\n",
    "    def success(self, state):\n",
    "        # TODO:  vérifie si tous les escargots sont à leur position de sortie -> si pos = exits\n",
    "        nbOfSuccess = 0\n",
    "        for i in range(len(self.exits)): \n",
    "            if(self.exits[i] == state.pos[i]):\n",
    "                nbOfSuccess += 1       \n",
    "        return nbOfSuccess == len(self.exits)\n",
    "\n",
    "    def init_positions(self, state):\n",
    "      #TODO\n",
    "      self.free_pos = np.ones((self.nb_lines, self.nb_columns), dtype=bool)\n",
    "      for walls in self.walls:\n",
    "        self.free_pos[walls.x][walls.y] = False\n",
    "\n",
    "      for x in range(self.nb_lines):\n",
    "        for y in range(self.nb_columns):\n",
    "          pos = str((x,y)).replace(' ', '')\n",
    "          if pos in str(state.pos):\n",
    "            self.free_pos[x][y] = False\n",
    "          elif pos in str(state.venoms).replace(' ', ''):\n",
    "            self.free_pos[x][y] = False\n",
    "      return 0\n",
    "  \n",
    "              \n",
    "    \n",
    "    def possible_moves_snail(self, snail_position, exit_position, other_exits):\n",
    "        moves = []  \n",
    "        #possible movements\n",
    "        goingUpPosition = Position(snail_position.x - 1, snail_position.y)\n",
    "        goingRightPosition = Position(snail_position.x, snail_position.y + 1)\n",
    "        goingDownPosition = Position(snail_position.x + 1, snail_position.y)\n",
    "        goingLeftPosition = Position(snail_position.x, snail_position.y - 1)\n",
    "\n",
    "        if goingUpPosition.x >= 0 and goingUpPosition.x < self.nb_lines and goingUpPosition.y >= 0 and goingUpPosition.y < self.nb_columns :\n",
    "            if self.free_pos[goingUpPosition.x][goingUpPosition.y] and goingUpPosition not in other_exits : #l'escargot peut-il aller vers le haut?\n",
    "                moves.append((1, goingUpPosition))\n",
    "        if goingRightPosition.x >= 0 and goingRightPosition.x < self.nb_lines and goingRightPosition.y >= 0 and goingRightPosition.y < self.nb_columns :\n",
    "            if self.free_pos[goingRightPosition.x][goingRightPosition.y] and goingRightPosition not in other_exits : #l'escargot peut-il aller vers la droite?\n",
    "                moves.append((2, goingRightPosition))\n",
    "        if goingDownPosition.x >= 0 and goingDownPosition.x < self.nb_lines and goingDownPosition.y >= 0 and goingDownPosition.y < self.nb_columns :\n",
    "            if self.free_pos[goingDownPosition.x][goingDownPosition.y] and goingDownPosition not in other_exits : #l'escargot peut-il aller vers le bas ?\n",
    "                moves.append((3, goingDownPosition))\n",
    "        if goingLeftPosition.x >= 0 and goingLeftPosition.x < self.nb_lines and goingLeftPosition.y >= 0 and goingLeftPosition.y < self.nb_columns :\n",
    "            if self.free_pos[goingLeftPosition.x][goingLeftPosition.y] and goingLeftPosition not in other_exits : #l'escargot peut-il aller vers la gauche ?\n",
    "                moves.append((4, goingLeftPosition))    \n",
    "        moves.append((0, snail_position)) #l'escargot peut toujours rester sur place\n",
    "        return moves\n",
    "\n",
    "    def possible_moves(self, state):\n",
    "        self.init_positions(state)\n",
    "        new_states = []\n",
    "        s = copy.deepcopy(state)\n",
    "        snailsPositions = s.pos\n",
    "        combi = []\n",
    "        numberOfSnails = len(snailsPositions)\n",
    "        venoms = list(s.venoms)\n",
    "        \n",
    "        #ajoute à combi la liste des déplacements possibles pour chaque escargot\n",
    "        for i in range(numberOfSnails) : \n",
    "            otherExists = copy.deepcopy(self.exits)\n",
    "            otherExists.remove(self.exits[i])\n",
    "            combi.append(self.possible_moves_snail(snailsPositions[i], self.exits[i], otherExists))\n",
    "            \n",
    "        moves = list(itertools.product(*combi)) #combinaisons possibles de tous les états suivants possibles\n",
    "        for i in range(len(moves)) :\n",
    "            numberOfMoves = 0\n",
    "            differentPositions = 0\n",
    "            positions = []\n",
    "            directions = []\n",
    "            for snail in moves[i] :\n",
    "                numberOfMoves += snail[0]\n",
    "                positions.append(snail[1])\n",
    "                directions.append(snail[0])\n",
    "\n",
    "            for j in range(len(positions)) :\n",
    "                if len(positions) != len(set(positions)) :#il existe des duplicats de positions pour différents escargots\n",
    "                    del directions[j]\n",
    "                    del positions[j]\n",
    "        \n",
    "            for j in range(len(positions)) :\n",
    "                for k in range(len(venoms)) :\n",
    "                    if positions[j].x == venoms[k][0] and positions[j].y == venoms[k][1] :\n",
    "                        del directions[j]\n",
    "                        del positions[j]\n",
    "            if numberOfMoves != 0 and len(positions) == numberOfSnails: #si au moins 1 escargot se déplace et qu'on ait 3 déplacements\n",
    "                nextState = s.move(directions)\n",
    "                nextState.prev = s\n",
    "                new_states.append(nextState)\n",
    "        return new_states\n",
    "\n",
    "    def solve(self, state):\n",
    "        to_visit = set()\n",
    "        fifo = deque([state])\n",
    "        to_visit.add(state)\n",
    "        # TODO\n",
    "        while len(fifo) > 0:\n",
    "            node = fifo.popleft()\n",
    "            if self.success(node):\n",
    "                to_visit.add(node)\n",
    "                print(\"Nombre d'etats visites: \" + str(len(to_visit)))\n",
    "                return node\n",
    "            if node not in to_visit or not node.prev:\n",
    "                for move in  self.possible_moves(node):\n",
    "                    if move not in to_visit:\n",
    "                        fifo.append(move)\n",
    "                to_visit.add(node)\n",
    "        return None\n",
    "\n",
    "    \"\"\"\n",
    "    Estimation du nombre de coup restants \n",
    "    \"\"\"\n",
    "    def estimee1(self, state):\n",
    "        # TODO\n",
    "        max = 0\n",
    "        for snail in range(len(state.pos)):\n",
    "            temp = state.pos[snail].distance(self.exits[snail])\n",
    "            if temp > max:\n",
    "                max = temp\n",
    "        \n",
    "        return max\n",
    "\n",
    "    def estimee2(self, state):\n",
    "        # TODO\n",
    "        return 0\n",
    "                    \n",
    "    def solve_Astar(self, state):\n",
    "        #TODO\n",
    "        to_visit = set()\n",
    "        to_visit.add(state)\n",
    "        \n",
    "        priority_queue = []\n",
    "        state.h = self.estimee1(state)\n",
    "        heapq.heappush(priority_queue, state)\n",
    "        \n",
    "        while len(priority_queue) > 0:\n",
    "            current_state = heapq.heappop(priority_queue)\n",
    "            if (current_state != state):\n",
    "                to_visit.add(current_state)\n",
    "            moves = self.possible_moves(current_state)\n",
    "            \n",
    "            if self.success(current_state):\n",
    "                print(\"Nombre d'etats visites: \" + str(len(to_visit)))\n",
    "                return current_state\n",
    "\n",
    "            for child in moves:\n",
    "                if child in to_visit:\n",
    "                    continue\n",
    "                child.h = self.estimee1(child)\n",
    "                if child in priority_queue and child.__lt__(current_state) == False:\n",
    "                    continue\n",
    "                heapq.heappush(priority_queue, child)    \n",
    "            \n",
    "    def print_solution(self, state):\n",
    "        snail = {1:'A', 2: 'B', 3: 'C', 4 : 'D', 5:'E', 6 :'F', 7: 'G',\n",
    "                 8: 'H', 9: 'I', 10:'J', 11: 'K', 12: 'L', 13: 'M', 14: 'N',\n",
    "                 15: 'O', 16: 'P', 17: 'Q', 18:'R', 19:'S', 20: 'T', 21: 'U', \n",
    "                 22: 'V', 23: 'W', 24: 'X', 25: 'Y', 26: 'Z'}\n",
    "\n",
    "        numberOfSnail = len(state.pos)\n",
    "        toPrint = []\n",
    "        i = 1\n",
    "        \n",
    "        while state.prev :\n",
    "            step = \". \"\n",
    "            for j in range(len(state.pos)) :\n",
    "                step += \"Escargot \" + snail[j+1]\n",
    "                if state.prev.pos[j].x == state.pos[j].x and state.prev.pos[j].y == state.pos[j].y :\n",
    "                    step += \" vers le centre\"\n",
    "                elif state.prev.pos[j].x > state.pos[j].x and state.prev.pos[j].y == state.pos[j].y :\n",
    "                    step += \" vers le haut\"\n",
    "                elif state.prev.pos[j].x == state.pos[j].x and state.prev.pos[j].y < state.pos[j].y :\n",
    "                    step += \" vers la droite\"\n",
    "                elif state.prev.pos[j].x < state.pos[j].x and state.prev.pos[j].y == state.pos[j].y :\n",
    "                    step += \" vers le bas\"\n",
    "                elif state.prev.pos[j].x == state.pos[j].x and state.prev.pos[j].y > state.pos[j].y :\n",
    "                    step += \" vers la gauche\"\n",
    "                \n",
    "                if j != numberOfSnail-1 :\n",
    "                    step += \", \"\n",
    "                elif j == numberOfSnail-1 :\n",
    "                    step += \".\"\n",
    "            toPrint.append(step)\n",
    "            state = state.prev\n",
    "            \n",
    "        i = 1\n",
    "        toPrint.reverse()\n",
    "        for step in toPrint :\n",
    "            print(str(i) + step)\n",
    "            i += 1\n",
    "        return 0\n",
    "\n",
    "    def print_labyrinth(self, state, show_all=True):\n",
    "\n",
    "        nb_rows = self.nb_lines\n",
    "        nb_cols = self.nb_columns\n",
    "        snails_str = [\"L_a\", \"L_b\", \"L_c\", \"L_d\", \"L_e\"]\n",
    "        venom_str = \"x\"\n",
    "        exits_str = [\"[E_a]\",\"[E_b]\",\"[E_c]\",\"[E_d]\",\"[E_e]\"]\n",
    "        colors = [\"red\",\"blue\",\"green\",\"pink\",\"yelllow\"]\n",
    "\n",
    "        if state.prev == None:\n",
    "            # Prepare table\n",
    "            cell_text = [[\"\" for j in range(nb_cols+1)] for i in range(nb_rows)]\n",
    "\n",
    "            fig, ax = plt.subplots()\n",
    "            fig.set_size_inches((nb_cols+1)*.5,(nb_rows+1)*.5)\n",
    "            ax.axis('tight')\n",
    "            ax.axis('off')\n",
    "            table = ax.table(cellText=cell_text,cellLoc='center', colColours=[\"gray\"]*(nb_cols+1),\n",
    "                                colWidths=[0.2 for j in range(nb_cols+1)],\n",
    "                                colLabels=[\"\"]+['$\\\\bf{%d}$' % val for val in range(nb_cols)],loc='center')\n",
    "            table.set_fontsize(13)\n",
    "            table.auto_set_font_size(False)\n",
    "\n",
    "            cellDict = table.get_celld()\n",
    "            for i in range(nb_cols+1):\n",
    "                for j in range(nb_rows+1):\n",
    "                    cellDict[(j,i)].set_height(.2)\n",
    "\n",
    "            for i in range(nb_rows+1):\n",
    "                table[(i, 0)].visible_edges = \"open\"\n",
    "            for i in range(nb_cols+1):\n",
    "                table[(0, i)].visible_edges = \"open\"\n",
    "            for i in range(nb_rows):\n",
    "                table[(i+1, 0)].get_text().set_text(\"$\\\\bf{%d}$\" % i)\n",
    "\n",
    "            # Walls\n",
    "            for i in self.walls:\n",
    "                table[(i.x+1,i.y+1)].set_facecolor(\"black\")\n",
    "            # Exits\n",
    "            for index,i in enumerate(self.exits):\n",
    "                table[(i.x+1, i.y+1)].get_text().set_text(exits_str[index])\n",
    "                table[(i.x+1, i.y+1)].get_text().set_color(colors[index])\n",
    "            # Snails\n",
    "            for index,snail in enumerate(state.pos):\n",
    "                table[(snail.x+1, snail.y+1)].get_text().set_text(snails_str[index])\n",
    "                table[(snail.x+1, snail.y+1)].get_text().set_color(colors[index])\n",
    "            \n",
    "            if not show_all:\n",
    "                clear_output(wait=True)\n",
    "            fig.suptitle('Snail labyrinth (step = %d)' % 0, x=0.5, y=1.2,fontsize=16)\n",
    "            display(fig)\n",
    "            if not show_all:\n",
    "                time.sleep(1)\n",
    "\n",
    "            return fig,table,1\n",
    "\n",
    "        fig,table, n = self.print_labyrinth(state.prev, show_all)\n",
    "\n",
    "        # Snails\n",
    "        for index,snail in enumerate(state.pos):\n",
    "            table[(state.prev.pos[index].x+1, state.prev.pos[index].y+1)].get_text().set_text(venom_str) # Venom\n",
    "            table[(snail.x+1, snail.y+1)].get_text().set_text(snails_str[index])\n",
    "            table[(snail.x+1, snail.y+1)].get_text().set_color(colors[index])\n",
    "\n",
    "        if not show_all:\n",
    "            clear_output(wait=True)\n",
    "        fig.suptitle('Snail labyrinth (step = %d)' % n, x=0.5, y=1.2, fontsize=16)\n",
    "        display(fig)\n",
    "        if not show_all:\n",
    "            time.sleep(1)\n",
    "\n",
    "        return fig,table, n+1\n"
   ]
  },
  {
   "cell_type": "markdown",
   "metadata": {
    "colab_type": "text",
    "id": "hbOOZjEEKBIf"
   },
   "source": [
    "   #### Implémentation\n",
    "   - Complétez la méthode ***success*** de la classe **Labyrinth** qui indique si un état est final. Cette méthode vérifie si toutes les escargots sont à leur position de sortie. Vous devriez obtenir les résultats suivants:\n",
    "```\n",
    "True\n",
    "True\n",
    "False\n",
    "```"
   ]
  },
  {
   "cell_type": "code",
   "execution_count": 161,
   "metadata": {
    "colab": {
     "base_uri": "https://localhost:8080/",
     "height": 102
    },
    "colab_type": "code",
    "id": "nsXQo3n8UoBo",
    "outputId": "ed07b534-0ec5-47f1-e1f7-780159dd0bd2"
   },
   "outputs": [
    {
     "name": "stdout",
     "output_type": "stream",
     "text": [
      "True\n",
      "True\n",
      "False\n",
      "\n",
      "résultat correct\n"
     ]
    }
   ],
   "source": [
    "def test2():\n",
    "    b = True\n",
    "    lb = Labyrinth(5, 7,\n",
    "                  [Position(0,4), Position(0,6)],\n",
    "                  [Position(0,3), Position(1,3), Position(2,3), Position(2,2), Position(2,4)])\n",
    "    s = State([Position(0,0), Position(3,0)])\n",
    "    s = s.move([3,3]).move([3,2]).move([2,2]).move([3,2]).move([2,2]).move([2,2]).move([2,2]).move([2,1]).move([1,1]).move([1,1]).move([1,1]).move([4,0])\n",
    "    b = b and lb.success(s)\n",
    "    print(lb.success(s))\n",
    "\n",
    "    lb = Labyrinth(8,8,\n",
    "                   [Position(0,4), Position(0,6), Position(7,0)],\n",
    "                   [Position(0,3), Position(1,3), Position(2,3), Position(2,2), Position(2,4), Position(6,2), Position(6,4), Position(6,5), Position(6,6), Position(7,1), Position(7,2), Position(7,3), Position(7,4)])\n",
    "    s = State([Position(0,0), Position(3,0), Position(7,7)])\n",
    "    s = s.move([3,3,1]).move([3,2,1]).move([2,2,4]).move([3,2,4]).move([2,2,4]).move([2,2,4]).move([2,2,4]).move([2,1,4]).move([1,1,4]).move([1,1,3]).move([1,1,3]).move([4,0,0])\n",
    "    b = b and lb.success(s)\n",
    "    print(lb.success(s))\n",
    "    s = s.move([2,2,2])\n",
    "    b = b and not lb.success(s)\n",
    "    print(lb.success(s))\n",
    "    print(\"\\nrésultat correct\" if b else \"\\nmauvais résultat\")\n",
    "\n",
    "test2()"
   ]
  },
  {
   "cell_type": "markdown",
   "metadata": {
    "colab_type": "text",
    "id": "Idrzf_cnKBIi"
   },
   "source": [
    "#### Implémentation \n",
    "   - Nous voulons utiliser une matrice $n \\times m$ `free_pos` indiquant les cases du labyrinthe qui sont libres. Complétez la méthode **init_positions(State)** qui initialise la matrice `free_pos` en fonction de l'état donné.\n",
    "   Par convention, *True* indique que la case est libre, et  `free_pos[i,j]` représente la case (ligne,colonne) du labyrinthe.\n",
    "\n",
    "Exécutez la cellule suivante pour tester la fonction ***init_positions(s)*** de votre code. Vous devriez obtenir les résultats suivants:\n",
    "```\n",
    "[[False  True  True False  True  True  True]\n",
    " [ True  True  True False  True  True  True]\n",
    " [ True  True False False False  True  True]\n",
    " [False  True  True  True  True  True  True]\n",
    " [ True  True  True  True  True  True  True]]\n",
    "\n",
    " [[False False False False  True  True  True]\n",
    " [False False False False  True  True  True]\n",
    " [False False False False False  True  True]\n",
    " [False False  True  True  True  True  True]\n",
    " [ True  True  True  True  True  True  True]]\n",
    "```"
   ]
  },
  {
   "cell_type": "code",
   "execution_count": 162,
   "metadata": {
    "colab": {
     "base_uri": "https://localhost:8080/",
     "height": 289
    },
    "colab_type": "code",
    "id": "w3w-wpHQq5M-",
    "outputId": "2ac1e329-37fa-4a74-8338-bf321c3c7faa"
   },
   "outputs": [
    {
     "name": "stdout",
     "output_type": "stream",
     "text": [
      "[[False  True  True False  True  True  True]\n",
      " [ True  True  True False  True  True  True]\n",
      " [ True  True False False False  True  True]\n",
      " [False  True  True  True  True  True  True]\n",
      " [ True  True  True  True  True  True  True]]\n",
      "\n",
      " résultat correct \n",
      "\n",
      "[[False False False False  True  True  True]\n",
      " [False False False False  True  True  True]\n",
      " [False False False False False  True  True]\n",
      " [False False  True  True  True  True  True]\n",
      " [ True  True  True  True  True  True  True]]\n",
      "\n",
      " résultat correct \n",
      "\n"
     ]
    }
   ],
   "source": [
    "def test3():\n",
    "    lb = Labyrinth(5, 7,\n",
    "                  [Position(0,4), Position(0,6)],\n",
    "                  [Position(0,3), Position(1,3), Position(2,3), Position(2,2), Position(2,4)])\n",
    "    s = State([Position(0,0), Position(3,0)])\n",
    "    lb.init_positions(s)\n",
    "    b = True\n",
    "    print(lb.free_pos)\n",
    "    ans = [[False,True,True,False,True,True,True],[True,True,True,False,True,True,True],\n",
    "          [True,True,False,False,False,True,True],[False,True,True,True,True,True,True],\n",
    "          [True,True,True,True,True,True,True]]\n",
    "    result = lb.free_pos == ans\n",
    "    for i in range(5):\n",
    "        for j in range(7):\n",
    "            b = b and result[i,j]\n",
    "    print(\"\\n\", \"résultat correct\" if b else \"mauvais résultat\", \"\\n\")\n",
    "    s = s.move([2,2]).move([2,1]).move([3,4]).move([4,0]).move([4,0])\n",
    "    lb.init_positions(s)\n",
    "    b = True\n",
    "    print(lb.free_pos)\n",
    "    ans = [[False,False,False,False,True,True,True],[False,False,False,False,True,True,True],\n",
    "          [False,False,False,False,False,True,True],[False,False,True,True,True,True,True],\n",
    "          [True,True,True,True,True,True,True]]\n",
    "    result = lb.free_pos == ans\n",
    "    for i in range(5):\n",
    "        for j in range(7):\n",
    "            b = b and result[i,j]\n",
    "    print(\"\\n\", \"résultat correct\" if b else \"mauvais résultat\", \"\\n\")\n",
    "            \n",
    "test3()"
   ]
  },
  {
   "cell_type": "markdown",
   "metadata": {
    "colab_type": "text",
    "id": "sL0VItGmKBIl"
   },
   "source": [
    "#### Implémentation \n",
    "   - Complétez la méthode **possible_moves_snail(snail_position, exit_position, other_exits)** qui à partir de la position d'un escargot, renvoie l'ensemble des mouvements possibles ainsi que leur destination. Cet ensemble est représenté par une liste de `tuple(mouvement,position)`; l'ordre dans la liste n'a pas d'importance. \n",
    "   - Complétez la méthode **possible_moves(state)**  qui combine les possibilités de déplacement de toutes les escargots, donné par la fonction **possible_moves_snail**, et renvoie l'ensemble d'états qui peuvent être atteints à partir de l'état *state*. Cet ensemble est représenté par une liste d'états (*states*); l'ordre dans la liste n'est pas important. \n",
    "   \n",
    "**Attention:** comment indiqué précédemment, deux escargots ne peuvent pas se déplacer au même endroit. De plus, on considère qu'il y a un mouvement lorsqu'au moins un escargot se déplace. Une situation où aucune escargot ne se déplace n'est ainsi pas considérée comme un mouvement. Finalement,\n",
    "notez qu'une escargot ne peut pas se déplacer à une sortie d'un autre escargot.\n",
    "\n",
    "Exécutez la cellule suivante pour tester votre code. Elle testera les deux fonctions ***possible_moves_snail(snail_position, exit_position, other_exits)*** et ***possible_moves(state)***. Vous devriez obtenir les résultats suivants:\n",
    "```\n",
    "[(1, (0,1)), (4, (1,0)), (0, (1,1))]\n",
    "[(2, (2,2)), (3, (3,1)), (4, (2,0)), (0, (2,1))]\n",
    "[(1, (0,3)), (0, (1,3))]\n",
    "11\n",
    "19\n",
    "35\n",
    "```\n",
    "Il y a ainsi 11 mouvements possibles à partir de l'état représenté par l'image trouvée au début du TP. Il y a 19 mouvements possibles à partir de l'état suivant où les escargots sont se sont déplacées d'une case vers la droite."
   ]
  },
  {
   "cell_type": "code",
   "execution_count": 163,
   "metadata": {
    "colab": {
     "base_uri": "https://localhost:8080/",
     "height": 221
    },
    "colab_type": "code",
    "id": "WUZ0t78cq9-K",
    "outputId": "cc3d1033-b627-4294-f1e0-4e0622d23273"
   },
   "outputs": [
    {
     "name": "stdout",
     "output_type": "stream",
     "text": [
      "[(1, (0,1)), (4, (1,0)), (0, (1,1))]\n",
      "[(2, (2,2)), (3, (3,1)), (4, (2,0)), (0, (2,1))]\n",
      "[(1, (0,3)), (0, (1,3))]\n",
      "11\n",
      "19\n",
      "35\n",
      "\n",
      " résultat correct \n",
      "\n"
     ]
    }
   ],
   "source": [
    "def test4():\n",
    "    b = True\n",
    "    lb = Labyrinth(4, 4,\n",
    "                    [Position(2,3), Position(1,2), Position(0,0)],\n",
    "                    [])\n",
    "    s0 = State([Position(1,1), Position(2,1), Position(1,3)])\n",
    "    lb.init_positions(s0)\n",
    "    possible1 = lb.possible_moves_snail(Position(1,1),Position(2,3),[Position(1,2), Position(0,0)])\n",
    "    print(possible1)\n",
    "    ver = True\n",
    "    for i in possible1:\n",
    "        if i not in [(1,Position(0,1)), (4,Position(1,0)), (0,Position(1,1))]:\n",
    "            ver = False\n",
    "    b = b and len(possible1) == len([(1,Position(0,1)), (4,Position(1,0)), (0,Position(1,1))]) and ver\n",
    "    possible2 = lb.possible_moves_snail(Position(2,1),Position(1,2),[Position(2,3), Position(0,0)])\n",
    "    print(possible2)\n",
    "    ver = True\n",
    "    for i in possible2:\n",
    "        if i not in [(2, Position(2,2)), (3, Position(3,1)), (4, Position(2,0)), (0, Position(2,1))]:\n",
    "            ver = False\n",
    "    b = b and len(possible2) == len([(2, Position(2,2)), (3, Position(3,1)), (4, Position(2,0)), (0, Position(2,1))]) and ver\n",
    "    possible3 = lb.possible_moves_snail(Position(1,3),Position(0,0),[Position(2,3), Position(1,2)])\n",
    "    print(possible3)\n",
    "    ver = True\n",
    "    for i in possible3:\n",
    "        if i not in [(1, Position(0,3)), (0, Position(1,3))]:\n",
    "            ver = False\n",
    "    b = b and len(possible3) == len([(1, Position(0,3)), (0, Position(1,3))]) and ver\n",
    "    lb = Labyrinth(5, 7,\n",
    "                  [Position(0,4), Position(0,6)],\n",
    "                  [Position(0,3), Position(1,3), Position(2,3), Position(2,2), Position(2,4)])\n",
    "    s = State([Position(0,0), Position(3,0)])\n",
    "    s2 = State([Position(0,1), Position(3,1)])\n",
    "    s3 = State([Position(3,5), Position(4,4), Position(1,4)])\n",
    "    l1 = len(lb.possible_moves(s))\n",
    "    print(l1)\n",
    "    b = b and l1 == 11\n",
    "    l2 = len(lb.possible_moves(s2))\n",
    "    print(l2)\n",
    "    b = b and l2 == 19\n",
    "    lb = Labyrinth(5, 7,\n",
    "                  [Position(0,4), Position(0,6), Position(0,2)],\n",
    "                  [Position(0,3), Position(1,3), Position(2,3), Position(2,2), Position(2,4)])\n",
    "    l3 = len(lb.possible_moves(s3))\n",
    "    print(l3)\n",
    "    b = b and l3 == 35\n",
    "    print(\"\\n\", \"résultat correct\" if b else \"mauvais résultat\", \"\\n\")\n",
    "test4()"
   ]
  },
  {
   "cell_type": "markdown",
   "metadata": {
    "colab_type": "text",
    "id": "nLVfRCIkKBIn"
   },
   "source": [
    "## 3. À la recherche d'une solution (30pts)\n",
    "\n",
    "Il est maintenant possible de chercher une solution avec notre implémentation actuelle. Il y a deux idées principales: \n",
    "\n",
    "1. Nous cherchons la solution la plus rapide, il nous faut énumérer tous les états pour les ordonner en ordre croissant en terme de nombre de mouvements. On va donc utiliser une file de type FIFO. \n",
    "2. Il est nécessaire de mémoriser les états que l'on a déjà trouvé. Pour cela on va utiliser un ensemble hash. Il s'agit d'utiliser une variable locale **to_visit** de type *set*.\n",
    "\n",
    "On peut représenter un ensemble d'état par un arbre dont la racine est l'état initial et les nœuds correspondent aux états `s`. La relation entre chaque état est de type `s` *est fils de* `p`, où `s` et `p` sont deux états. Autrement dit, `s` peut être obtenu à partir de `p` en un mouvement.\n",
    "\n",
    "On cherche à faire une recherche en largeur sur cet arbre. On peut donc représenter la file par une liste (FIFO). La file commence avec l'état initial. Tant que la liste n'est pas vide, on extrait le premier état. Si l'état est final, on termine l'exécution de l'algorithme. Dans le cas contraire, on ajoute ses fils non visités à la fin de la liste. On ajoute ensuite cet état dans la liste `to_visit`.\n",
    "\n",
    "#### Implementation \n",
    "   - Complétez la méthode **solve** en implémentant cet algorithme. La méthode doit renvoyer un état final (las limaces doivent être à leur sortie). \n",
    "   - Complétez la méthode **print_solution(state)** qui affiche une solution à partir d'un état final `state`. Il faut afficher les mouvements des escargots dans le bon ordre.\n",
    "\n",
    "Utilisez la cellule suivante pour tester votre code. Vous devriez obtenir le résultat suivant:  \n",
    "Il y a 7 mouvements à faire pour résoudre le problème de la figure de départ. **Note** Votre solution peut être différente de celle présentée ici, cela dépend de la méthode de construction de la liste dans la méthode ``possible_moves``. Cependant votre solution doit avoir le même nombre de mouvements (7).\n",
    "\n",
    "![example7](https://imgur.com/6nXn3mp.png)\n",
    "\n",
    "```\n",
    "1. Escargot A vers la gauche, Escargot B vers la droite, Escargot C vers le haut.\n",
    "2. Escargot A vers le bas, Escargot B vers le haut, Escargot C vers la gauche.\n",
    "3. Escargot A vers le bas, Escargot B vers le centre, Escargot C vers la gauche.\n",
    "4. Escargot A vers la droite, Escargot B vers le centre, Escargot C vers la gauche.\n",
    "5. Escargot A vers la droite, Escargot B vers le centre, Escargot C vers le centre.\n",
    "6. Escargot A vers la droite, Escargot B vers le centre, Escargot C vers le centre.\n",
    "7. Escargot A vers le haut, Escargot B vers le centre, Escargot C vers le centre.\n",
    "```"
   ]
  },
  {
   "cell_type": "code",
   "execution_count": 164,
   "metadata": {
    "colab": {
     "base_uri": "https://localhost:8080/",
     "height": 51
    },
    "colab_type": "code",
    "id": "TtrXDSaZf5c5",
    "outputId": "312e83fb-1a02-4957-8efa-d13bdfdc0ef3"
   },
   "outputs": [
    {
     "name": "stdout",
     "output_type": "stream",
     "text": [
      "Nombre d'etats visites: 382\n",
      "CPU times: user 1.23 s, sys: 6.67 ms, total: 1.24 s\n",
      "Wall time: 1.24 s\n",
      "1. Escargot A vers la gauche, Escargot B vers la droite, Escargot C vers le centre.\n",
      "2. Escargot A vers le bas, Escargot B vers le centre, Escargot C vers le centre.\n",
      "3. Escargot A vers le bas, Escargot B vers le centre, Escargot C vers le centre.\n",
      "4. Escargot A vers la droite, Escargot B vers le centre, Escargot C vers le haut.\n",
      "5. Escargot A vers la droite, Escargot B vers le haut, Escargot C vers la gauche.\n",
      "6. Escargot A vers la droite, Escargot B vers le centre, Escargot C vers la gauche.\n",
      "7. Escargot A vers le haut, Escargot B vers le centre, Escargot C vers la gauche.\n"
     ]
    },
    {
     "data": {
      "image/png": "[encoded data removed]",
      "text/plain": [
       "<Figure size 180x180 with 1 Axes>"
      ]
     },
     "metadata": {},
     "output_type": "display_data"
    },
    {
     "data": {
      "image/png": "[encoded data removed]",
      "text/plain": [
       "<Figure size 180x180 with 1 Axes>"
      ]
     },
     "metadata": {},
     "output_type": "display_data"
    },
    {
     "data": {
      "image/png": "[encoded data removed]",
      "text/plain": [
       "<Figure size 180x180 with 1 Axes>"
      ]
     },
     "metadata": {},
     "output_type": "display_data"
    },
    {
     "data": {
      "image/png": "[encoded data removed]",
      "text/plain": [
       "<Figure size 180x180 with 1 Axes>"
      ]
     },
     "metadata": {},
     "output_type": "display_data"
    },
    {
     "data": {
      "image/png": "[encoded data removed]",
      "text/plain": [
       "<Figure size 180x180 with 1 Axes>"
      ]
     },
     "metadata": {},
     "output_type": "display_data"
    },
    {
     "data": {
      "image/png": "[encoded data removed]",
      "text/plain": [
       "<Figure size 180x180 with 1 Axes>"
      ]
     },
     "metadata": {},
     "output_type": "display_data"
    },
    {
     "data": {
      "image/png": "[encoded data removed]",
      "text/plain": [
       "<Figure size 180x180 with 1 Axes>"
      ]
     },
     "metadata": {},
     "output_type": "display_data"
    },
    {
     "data": {
      "image/png": "[encoded data removed]",
      "text/plain": [
       "<Figure size 180x180 with 1 Axes>"
      ]
     },
     "metadata": {},
     "output_type": "display_data"
    },
    {
     "data": {
      "image/png": "[encoded data removed]",
      "text/plain": [
       "<Figure size 180x180 with 1 Axes>"
      ]
     },
     "metadata": {
      "needs_background": "light"
     },
     "output_type": "display_data"
    }
   ],
   "source": [
    "def solve7():\n",
    "    lb = Labyrinth(4, 4,\n",
    "                    [Position(2,3), Position(1,2), Position(0,0)],\n",
    "                    [])\n",
    "    s0 = State([Position(1,1), Position(2,1), Position(1,3)])\n",
    "    s = %time lb.solve_Astar(s0)\n",
    "    lb.print_solution(s)\n",
    "#     Si vous voulez visualiser les résultats, décommenter la ligne ci-dessous.\n",
    "    lb.print_labyrinth(s, show_all=True)\n",
    "    \n",
    "solve7()"
   ]
  },
  {
   "cell_type": "markdown",
   "metadata": {
    "colab_type": "text",
    "id": "Qt0qgHw8gn8c"
   },
   "source": [
    "#### Tests\n",
    "Voici deux autres problèmes à résoudre : le premier doit être résolu en 9 mouvement; le second en 12.\n",
    "<table><tr>\n",
    "<td> <img src=\"https://i.imgur.com/QCf38qc.png\" alt=\"Drawing\"/> </td>\n",
    "<td> <img src=\"https://i.imgur.com/3W4iDSk.png\" alt=\"Drawing\"/> </td>\n",
    "</tr></table>"
   ]
  },
  {
   "cell_type": "code",
   "execution_count": null,
   "metadata": {
    "colab": {
     "base_uri": "https://localhost:8080/",
     "height": 119
    },
    "colab_type": "code",
    "id": "Szg8Jbb0grcg",
    "outputId": "519f169b-ddf0-416c-fb94-bcf06b58aecd"
   },
   "outputs": [
    {
     "name": "stdout",
     "output_type": "stream",
     "text": [
      "Nombre d'etats visites: 762\n",
      "CPU times: user 6.93 s, sys: 33.5 ms, total: 6.97 s\n",
      "Wall time: 7.01 s\n",
      "1. Escargot A vers le haut, Escargot B vers le centre.\n",
      "2. Escargot A vers la droite, Escargot B vers le centre.\n",
      "3. Escargot A vers le haut, Escargot B vers le bas.\n",
      "4. Escargot A vers la droite, Escargot B vers la droite.\n",
      "5. Escargot A vers la droite, Escargot B vers le haut.\n",
      "6. Escargot A vers la droite, Escargot B vers la droite.\n",
      "7. Escargot A vers le bas, Escargot B vers la droite.\n",
      "8. Escargot A vers le bas, Escargot B vers le haut.\n",
      "9. Escargot A vers le bas, Escargot B vers le haut.\n"
     ]
    },
    {
     "data": {
      "image/png": "[encoded data removed]",
      "text/plain": [
       "<Figure size 216x216 with 1 Axes>"
      ]
     },
     "metadata": {},
     "output_type": "display_data"
    },
    {
     "data": {
      "image/png": "[encoded data removed]",
      "text/plain": [
       "<Figure size 216x216 with 1 Axes>"
      ]
     },
     "metadata": {},
     "output_type": "display_data"
    },
    {
     "data": {
      "image/png": "[encoded data removed]",
      "text/plain": [
       "<Figure size 216x216 with 1 Axes>"
      ]
     },
     "metadata": {},
     "output_type": "display_data"
    },
    {
     "data": {
      "image/png": "[encoded data removed]",
      "text/plain": [
       "<Figure size 216x216 with 1 Axes>"
      ]
     },
     "metadata": {},
     "output_type": "display_data"
    },
    {
     "data": {
      "image/png": "[encoded data removed]",
      "text/plain": [
       "<Figure size 216x216 with 1 Axes>"
      ]
     },
     "metadata": {},
     "output_type": "display_data"
    },
    {
     "data": {
      "image/png": "[encoded data removed]",
      "text/plain": [
       "<Figure size 216x216 with 1 Axes>"
      ]
     },
     "metadata": {},
     "output_type": "display_data"
    },
    {
     "data": {
      "image/png": "[encoded data removed]",
      "text/plain": [
       "<Figure size 216x216 with 1 Axes>"
      ]
     },
     "metadata": {},
     "output_type": "display_data"
    },
    {
     "data": {
      "image/png": "[encoded data removed]",
      "text/plain": [
       "<Figure size 216x216 with 1 Axes>"
      ]
     },
     "metadata": {},
     "output_type": "display_data"
    },
    {
     "data": {
      "image/png": "[encoded data removed]",
      "text/plain": [
       "<Figure size 216x216 with 1 Axes>"
      ]
     },
     "metadata": {},
     "output_type": "display_data"
    },
    {
     "data": {
      "image/png": "[encoded data removed]",
      "text/plain": [
       "<Figure size 216x216 with 1 Axes>"
      ]
     },
     "metadata": {},
     "output_type": "display_data"
    },
    {
     "name": "stdout",
     "output_type": "stream",
     "text": [
      "\n",
      "\n"
     ]
    }
   ],
   "source": [
    "def solve9():\n",
    "    lb = Labyrinth(5, 5,\n",
    "                    [Position(3,4), Position(1,3)],\n",
    "                    [])\n",
    "    s0 = State([Position(2,0), Position(3,0)])\n",
    "    s = %time lb.solve_Astar(s0)\n",
    "    lb.print_solution(s)\n",
    "#     Si vous voulez visualiser les résultats, décommenter la ligne ci-dessous.\n",
    "    lb.print_labyrinth(s, show_all=True)\n",
    "\n",
    "def solve12():\n",
    "    lb = Labyrinth(5, 7,\n",
    "                [Position(0,4), Position(0,6)],\n",
    "                [Position(0,3), Position(1,3), Position(2,3), Position(2,2), Position(2,4)])\n",
    "    s0 = State([Position(0,0), Position(3,0)])\n",
    "    s = %time lb.solve_Astar(s0)\n",
    "    lb.print_solution(s)\n",
    "#     Si vous voulez visualiser les résultats, décommenter la ligne ci-dessous.\n",
    "    lb.print_labyrinth(s, show_all=True)\n",
    "\n",
    "solve9()\n",
    "print(\"\\n\")\n",
    "solve12()"
   ]
  },
  {
   "cell_type": "markdown",
   "metadata": {
    "colab_type": "text",
    "id": "7qumAZCLKBIr"
   },
   "source": [
    "## 4. A* algorithme (35pts)\n",
    "\n",
    "La méthode proposée précédemment utilise une recherche en largeur pour trouver la solution. Une solution plus rapide peut être mise en place avec un algorithme `A*`. L'idée principale de l'algorithme A* est d'insérer de *l'intelligence artificielle* à la méthode de résolution. Ceci est fait en utilisant une fonction d'estimation qui permet d'évaluer la distance entre un état et la solution. \n",
    "\n",
    "Au lieu d'utiliser une approche *first-in first-out (premier entré, premier sorti)* lors de la visite des états, l'algorithme A* défini une valeur de priorité pour chaque état, à partir de la fonction d'estimation, et commence par visiter les états les plus prioritaires. Pour cela, on utilise une structure de données bien plus appropriée : une file de priorité.\n",
    "\n",
    "En plus de la fonction d'estimation, A* doit aussi tenir compte d'une autre information importante : le coût actuel de l'état. Ce coût est tout simplement, dans notre cas, la distance entre l'état actuel et l'état initial. Ces deux éléments mis ensembles permettent de calculer la fonction d'estimation heuristique ***f*** d'un état `s`, comme la somme du coût actuel de l'état ***c*** et de l'estimation du coût restant ***h***. \n",
    "\n",
    "<center> f(s) = coût(s) + h(s) </center>\n",
    "\n",
    "**Mise en place de l'algorithme**\n",
    "\n",
    "- Il nous faut donc calculer le nombre de mouvements nécessaires pour atteindre l'état actuel, `coût(s)`. Pour le calculer, créez une variable `nb_moves` dans la classe `State` qui enregistre le nombre de mouvements effectués pour arriver à cet état. Cette variable commence à 0 et doit être incrémentée à chaque fois que l'on crée un nouvel état en utilisant la fonction `move(d)`.\n",
    "\n",
    "Le coût de la fonction d'estimation est représenté par la variable `h`. Cette fonction estime le nombre de coups restants. Cette composante joue un rôle important dans l'efficacité de l'algorithme A*. Cette variable est utilisée dans la fonction `__lt__` de la classe *State*, qui compare la fonction d'estimation ` f` de deux états. \n",
    "\n",
    "Il est donc important de créer une bonne fonction pour résoudre le problème. Plus cette fonction est efficace, moins d'états inutiles seront visités. Cette fonction doit par contre toujours renvoyer un minorant du nombre de coups restant. On va analyser deux fonctions différentes dans ce TP.\n",
    "\n",
    "#### Fonction 1: à partir de la distance entre les escargots et leur sortie.\n",
    "- Complétez dans la classe State, la fonction ``estimee1()`` qui renvoie la distance plus grande entre les escargots et leur sortie.\n",
    "- Maintenant complétez la méthode `solve_Astar(state)` pour résoudre le problème de la même façon qu'au début du TP, mais en utilisant la file de priorité à la place d'une file ordinaire.\n",
    "- Modifiez les fonctions `solve_Astar(state)` et `solve(state)` de façon à compter et afficher le nombre d'états visités lors de la résolution.\n",
    "- Modifiez le code des fonctions `solve7(),solve9(),solve12()` pour résoudre les problèmes à l'aide de l'algorithme A*. Vérifiez que les solutions sont obtenues en autant de mouvements qu'avec le premier algorithme, mais avec un nombre inférieur d'états visités. \n",
    "\n",
    "N.B: Vous pouvez ajouter des cellules pour faire le test ou afficher les resultats des algorithmes dans une même cellule. Veillez à bien identifier les résultats affichés.\n",
    "\n",
    "\n"
   ]
  },
  {
   "cell_type": "markdown",
   "metadata": {
    "colab_type": "text",
    "id": "el-uBac-KBIt"
   },
   "source": [
    "## 5. Amélioration de l'heuristique (Bonus - 10pts)\n",
    "Proposez une autre fonction heuristique admissible meilleure que `estimee1` pour le problème et testez-la avec les exemples fournis (`solve7()`, `solve9()` et `solve12()`). Ajoutez une fonction nommée `estimee2` et implémentez votre heuristique. **N'oubliez pas de justifier votre choix d'heuristique.**"
   ]
  },
  {
   "cell_type": "markdown",
   "metadata": {
    "colab_type": "text",
    "id": "7QkBaA7hKBIu"
   },
   "source": [
    "## Barême\n",
    "Partie 1: 10 points\n",
    "\n",
    "Partie 2: 25 points\n",
    "\n",
    "Partie 3: 30 points\n",
    "\n",
    "Partie 4: 35 points\n",
    "\n",
    "Partie 5: 10 points (Bonus)\n",
    "\n",
    "Pour un total de 110 points sur 100 points.\n",
    "\n"
   ]
  }
 ],
 "metadata": {
  "colab": {
   "collapsed_sections": [],
   "name": "TP1_Luu_Mellouk_Younes.ipynb",
   "provenance": []
  },
  "kernelspec": {
   "display_name": "Python 3",
   "language": "python",
   "name": "python3"
  }
 },
 "nbformat": 4,
 "nbformat_minor": 1
}
